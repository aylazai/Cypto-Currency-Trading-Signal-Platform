{
 "cells": [
  {
   "cell_type": "code",
   "execution_count": 1,
   "metadata": {},
   "outputs": [],
   "source": [
    "import pandas as pd\n",
    "import websocket, json"
   ]
  },
  {
   "cell_type": "code",
   "execution_count": 2,
   "metadata": {},
   "outputs": [],
   "source": [
    "from sqlalchemy import create_engine"
   ]
  },
  {
   "cell_type": "code",
   "execution_count": 3,
   "metadata": {},
   "outputs": [],
   "source": [
    "engine = create_engine('sqlite:///CryptoDB.db')"
   ]
  },
  {
   "cell_type": "code",
   "execution_count": 4,
   "metadata": {},
   "outputs": [],
   "source": [
    "#prices for all available coins\n",
    "stream = \"wss://stream.binance.com:9443/ws/!miniTicker@arr\""
   ]
  },
  {
   "cell_type": "code",
   "execution_count": 5,
   "metadata": {},
   "outputs": [],
   "source": [
    "def on_message(ws, message):\n",
    "    msg = json.loads(message)\n",
    "    symbol = [x for x in msg if x['s'].endswith('USDT')]\n",
    "    frame = pd.DataFrame(symbol)[['E','s','c']]\n",
    "    frame.E = pd.to_datetime(frame.E, unit = 'ms')\n",
    "    frame.c = frame.c.astype(float)\n",
    "    for row in range(len(frame)):\n",
    "        data = frame[row:row+1]\n",
    "        data[['E', 'c']].to_sql(data['s'].values[0], engine, index=False, if_exists='append')\n",
    "\n",
    "ws = websocket.WebSocketApp(stream, on_message=on_message)\n",
    "ws.run_forever()"
   ]
  }
 ],
 "metadata": {
  "interpreter": {
   "hash": "b451046c6e774e5ac91ff49b51307b6ed6c1f2acc5068a7607e516a54a9d4aea"
  },
  "kernelspec": {
   "display_name": "Python 3.9.7 64-bit ('snowflakes': conda)",
   "language": "python",
   "name": "python3"
  },
  "language_info": {
   "codemirror_mode": {
    "name": "ipython",
    "version": 3
   },
   "file_extension": ".py",
   "mimetype": "text/x-python",
   "name": "python",
   "nbconvert_exporter": "python",
   "pygments_lexer": "ipython3",
   "version": "3.9.7"
  },
  "orig_nbformat": 4
 },
 "nbformat": 4,
 "nbformat_minor": 2
}
